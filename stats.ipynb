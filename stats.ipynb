{
 "cells": [
  {
   "cell_type": "markdown",
   "metadata": {},
   "source": [
    "# Compute the metrics and write it to TEX file"
   ]
  },
  {
   "cell_type": "code",
   "execution_count": null,
   "metadata": {},
   "outputs": [],
   "source": [
    "import glob\n",
    "import numpy as np\n",
    "import torch as T\n",
    "import pickle"
   ]
  },
  {
   "cell_type": "code",
   "execution_count": null,
   "metadata": {},
   "outputs": [],
   "source": [
    "file = open('sym.tex','w')\n",
    "file.write('\\\\begin{table*}[t]\\n')\n",
    "file.write('\\t\\\\caption{Results of speaker independent model}\\n')\n",
    "file.write('\\t\\\\label{tab:results_main}\\n')\n",
    "file.write('\\t\\\\centering\\n')\n",
    "file.write('\\t\\\\begin{tabular}{l |ccc|ccc| ccc}\\n')\n",
    "file.write('\\t\\t\\\\toprule\\n')\n",
    "file.write('\\t\\t\\\\bf Model & \\\\multicolumn{3}{c}{\\\\bf ROLL} & \\\\multicolumn{3}{c}{\\\\bf PITCH} & \\\\multicolumn{3}{c}{\\\\bf YAW} \\\\\\\\\\n')\n",
    "file.write('\\t\\t  & \\\\bf MAE & \\\\bf CC & \\\\bf p-val & \\\\bf MAE & \\\\bf CC & \\\\bf p-val & \\\\bf MAE & \\\\bf CC & \\\\bf p-val\\\\\\\\\\n')\n",
    "file.write('\\t\\t\\\\midrule\\n')"
   ]
  },
  {
   "cell_type": "code",
   "execution_count": null,
   "metadata": {},
   "outputs": [],
   "source": [
    "def _gaussian_kernel(size, sigma):\n",
    "    #interval = (2 * sigma**2) / (size - 1)\n",
    "    x = T.arange(size, dtype=T.float32)\n",
    "    kernel = T.exp(-((x - size // 2) ** 2) / (2 * sigma ** 2))\n",
    "    return kernel / T.sum(kernel)"
   ]
  },
  {
   "cell_type": "code",
   "execution_count": null,
   "metadata": {},
   "outputs": [],
   "source": [
    "from scipy.stats import pearsonr\n",
    "import sys\n",
    "dirs = glob.glob('results/*')\n",
    "kernel = _gaussian_kernel(10, 3).unsqueeze(0).unsqueeze(0).expand(3,-1,-1)\n",
    "print(kernel)\n",
    "for dirw in dirs:\n",
    "    print(dirw)\n",
    "    sym = pickle.load(open(dirw,'rb'))\n",
    "    input = sym['input']\n",
    "    output = sym['output']\n",
    "    cat = zip(input,output)\n",
    "    mae = np.array([0,0,0],dtype=np.float64)\n",
    "    std = np.array([0,0,0],dtype=np.float64)\n",
    "    corr = []\n",
    "    pval = []\n",
    "    for inp,out in cat:\n",
    "        inp = inp.squeeze()\n",
    "        out = out.squeeze()\n",
    "        out = np.array(T.nn.functional.conv1d(T.tensor(out).unsqueeze(0).transpose(1,2), kernel, groups=3, padding='same').transpose(1,2)).squeeze()\n",
    "        err = np.array(out-inp)\n",
    "        ae = np.abs(err)\n",
    "        std += np.std(err,0)\n",
    "        #print(np.mean(ae,0))\n",
    "        mae += np.mean(ae,0)\n",
    "        cor = [0,0,0]\n",
    "        pva = [0,0,0]\n",
    "        for j in range(3):\n",
    "            try:\n",
    "                cor[j], pva[j]= pearsonr(inp[:,j],out[:,j])\n",
    "            except:\n",
    "                print(out[:,j])\n",
    "                sys.exit()\n",
    "        corr.append(cor)\n",
    "        pval.append(pva)\n",
    "    mae = mae/len(input)\n",
    "    std = std/len(input)\n",
    "    corr = np.mean(np.stack(corr,0),0)\n",
    "    pval = np.mean(np.stack(pval,0),0)\n",
    "    file.write('\\t\\t%20s & $%.2f\\\\pm%.2f$ & $%.2f$ & $%.2f$'%(sym['name'],mae[1],std[1],corr[1],pval[1]))\n",
    "    file.write(' & $%.2f\\\\pm%.2f$ & $%.3f$ & $%.3f$'%(mae[0],std[0],corr[0],pval[0]))\n",
    "    file.write(' & $%.2f\\\\pm%.2f$ & $%.3f$ & $%.3f$\\\\\\\\\\n'%(mae[2],std[2],corr[2],pval[2]))\n",
    "    print('%20s:[roll,pitch,yaw]:\\t[%.4f±%.4f,%.4f±%.4f,%.4f±%.4f], \\t[mean]:[%.4f±%.4f]'%(sym['name'],mae[1],std[1],mae[0],std[0],mae[2],std[2],np.mean(mae),np.mean(std)))\n",
    "    print('%20s: \\troll:[corr:%.4f, conf:%.4f], \\tpitch:[corr:%.4f, conf:%.4f], \\tyaw:[corr:%.4f, conf:%.4f], \\tmean:%.4f'%(sym['name'],corr[1],pval[1],corr[0],pval[0],corr[2],pval[2],np.mean(corr)))"
   ]
  },
  {
   "cell_type": "code",
   "execution_count": null,
   "metadata": {},
   "outputs": [],
   "source": [
    "file.write('\\t\\t\\\\bottomrule\\n')\n",
    "file.write('\\t\\\\end{tabular}\\n')\n",
    "file.write('\\\\end{table*}')\n",
    "file.close()"
   ]
  }
 ],
 "metadata": {
  "kernelspec": {
   "display_name": "backchannel",
   "language": "python",
   "name": "python3"
  },
  "language_info": {
   "codemirror_mode": {
    "name": "ipython",
    "version": 3
   },
   "file_extension": ".py",
   "mimetype": "text/x-python",
   "name": "python",
   "nbconvert_exporter": "python",
   "pygments_lexer": "ipython3",
   "version": "3.10.4"
  }
 },
 "nbformat": 4,
 "nbformat_minor": 2
}
