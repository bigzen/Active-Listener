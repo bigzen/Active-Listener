{
 "cells": [
  {
   "cell_type": "markdown",
   "metadata": {},
   "source": [
    "# Preprocess the data and save the in pickle format"
   ]
  },
  {
   "cell_type": "code",
   "execution_count": null,
   "metadata": {},
   "outputs": [],
   "source": [
    "import os\n",
    "import glob\n",
    "import csv\n",
    "import pickle\n",
    "import warnings\n",
    "import numpy as np\n",
    "import torch as T\n",
    "#import torchaudio as Ta\n",
    "import torch_geometric as pyg\n",
    "from utilities.graphData import MocapDataset as MocapDataset\n",
    "from utilities.util import GetInputOutputSplit\n",
    "\n",
    "warnings.filterwarnings('ignore')"
   ]
  },
  {
   "cell_type": "code",
   "execution_count": null,
   "metadata": {},
   "outputs": [],
   "source": [
    "base_dir = '../IEMOCAP_full_release/'\n",
    "os.chdir(base_dir)\n",
    "dirs = glob.glob('*.csv')"
   ]
  },
  {
   "cell_type": "markdown",
   "metadata": {},
   "source": [
    "### Process data with wav2vec2 for GNN  "
   ]
  },
  {
   "cell_type": "code",
   "execution_count": null,
   "metadata": {},
   "outputs": [],
   "source": [
    "for dire in dirs:\n",
    "    head, aud, landM, emo, val = GetInputOutputSplit([dire])\n",
    "    dataset = MocapDataset(head, aud, landM, emo, val)\n",
    "    dataloader = pyg.loader.DataLoader(dataset, batch_size=1 )\n",
    "    data = []\n",
    "    for dat in dataloader:\n",
    "        data.append(dat)\n",
    "    name = dire.split('.')\n",
    "    with open('../active_listener/processed_data/'+name[0]+'_graph_pitch.pkl', 'wb') as f:\n",
    "       pickle.dump(data, f)\n",
    "        "
   ]
  },
  {
   "cell_type": "markdown",
   "metadata": {},
   "source": [
    "### Process data with wav2vec2 for LSTM "
   ]
  },
  {
   "cell_type": "code",
   "execution_count": null,
   "metadata": {},
   "outputs": [],
   "source": [
    "from utilities.mocap_wav import MocapDataset\n",
    "for dire in dirs:\n",
    "    head, aud, landM, emo, val = GetInputOutputSplit([dire])\n",
    "    dataset = MocapDataset(head, aud, landM, emo, val)\n",
    "    dataloader = T.utils.data.DataLoader(dataset, batch_size=1 )\n",
    "    data = []\n",
    "    for dat in dataloader:\n",
    "        data.append(dat)\n",
    "    name = dire.split('.')\n",
    "    with open('../active_listener/processed_data/'+name[0]+'_lstm.pkl', 'wb') as f:\n",
    "       pickle.dump(data, f)"
   ]
  }
 ],
 "metadata": {
  "kernelspec": {
   "display_name": "backchannel",
   "language": "python",
   "name": "python3"
  },
  "language_info": {
   "codemirror_mode": {
    "name": "ipython",
    "version": 3
   },
   "file_extension": ".py",
   "mimetype": "text/x-python",
   "name": "python",
   "nbconvert_exporter": "python",
   "pygments_lexer": "ipython3",
   "version": "3.8.18"
  }
 },
 "nbformat": 4,
 "nbformat_minor": 2
}
